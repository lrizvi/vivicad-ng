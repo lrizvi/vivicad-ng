{
 "cells": [
  {
   "cell_type": "code",
   "execution_count": 1,
   "id": "4dfffa78-51eb-4185-a919-8e2eb4ad4680",
   "metadata": {},
   "outputs": [
    {
     "name": "stderr",
     "output_type": "stream",
     "text": [
      "hwloc/linux: Ignoring PCI device with non-16bit domain.\n",
      "Pass --enable-32bits-pci-domain to configure to support such devices\n",
      "(warning: it would break the library ABI, don't enable unless really needed).\n"
     ]
    }
   ],
   "source": [
    "from mpi4py import MPI\n",
    "from dolfinx import mesh\n",
    "domain = mesh.create_unit_square(MPI.COMM_WORLD, 8, 8, mesh.CellType.quadrilateral)"
   ]
  },
  {
   "cell_type": "code",
   "execution_count": 2,
   "id": "46a3308e-b3a2-44d0-8033-e11b5e1beed2",
   "metadata": {},
   "outputs": [
    {
     "name": "stderr",
     "output_type": "stream",
     "text": [
      "INFO:root:running build_ext\n",
      "INFO:root:building 'libffcx_elements_744778381fa4bc2bf426afe9688c3c5a6e57eec1' extension\n",
      "INFO:root:/opt/conda/bin/x86_64-conda-linux-gnu-cc -Wno-unused-result -Wsign-compare -DNDEBUG -fwrapv -O2 -Wall -fPIC -O2 -isystem /opt/conda/include -fPIC -O2 -isystem /opt/conda/include -march=nocona -mtune=haswell -ftree-vectorize -fPIC -fstack-protector-strong -fno-plt -O2 -ffunction-sections -pipe -isystem /opt/conda/include -DNDEBUG -D_FORTIFY_SOURCE=2 -O2 -isystem /opt/conda/include -fPIC -I/opt/conda/lib/python3.10/site-packages/ffcx/codegeneration -I/opt/conda/include/python3.10 -c libffcx_elements_744778381fa4bc2bf426afe9688c3c5a6e57eec1.c -o ./libffcx_elements_744778381fa4bc2bf426afe9688c3c5a6e57eec1.o -O2 -g0\n",
      "INFO:root:/opt/conda/bin/x86_64-conda-linux-gnu-cc -shared -Wl,--allow-shlib-undefined -Wl,-rpath,/opt/conda/lib -Wl,-rpath-link,/opt/conda/lib -L/opt/conda/lib -Wl,--allow-shlib-undefined -Wl,-rpath,/opt/conda/lib -Wl,-rpath-link,/opt/conda/lib -L/opt/conda/lib -Wl,-O2 -Wl,--sort-common -Wl,--as-needed -Wl,-z,relro -Wl,-z,now -Wl,--disable-new-dtags -Wl,--gc-sections -Wl,--allow-shlib-undefined -Wl,-rpath,/opt/conda/lib -Wl,-rpath-link,/opt/conda/lib -L/opt/conda/lib -march=nocona -mtune=haswell -ftree-vectorize -fPIC -fstack-protector-strong -fno-plt -O2 -ffunction-sections -pipe -isystem /opt/conda/include -DNDEBUG -D_FORTIFY_SOURCE=2 -O2 -isystem /opt/conda/include ./libffcx_elements_744778381fa4bc2bf426afe9688c3c5a6e57eec1.o -o ./libffcx_elements_744778381fa4bc2bf426afe9688c3c5a6e57eec1.cpython-310-x86_64-linux-gnu.so\n"
     ]
    }
   ],
   "source": [
    "from dolfinx.fem import FunctionSpace\n",
    "V = FunctionSpace(domain, (\"CG\", 1))"
   ]
  },
  {
   "cell_type": "code",
   "execution_count": 3,
   "id": "e7cca8b4-5931-4063-8cfb-2e832ede43ff",
   "metadata": {},
   "outputs": [],
   "source": [
    "from dolfinx import fem\n",
    "uD = fem.Function(V)\n",
    "uD.interpolate(lambda x: 1 + x[0]**2 + 2 * x[1]**2)"
   ]
  },
  {
   "cell_type": "code",
   "execution_count": 4,
   "id": "c0a42994-dedc-4395-9431-9295455040ba",
   "metadata": {},
   "outputs": [],
   "source": [
    "import numpy\n",
    "# Create facet to cell connectivity required to determine boundary facets\n",
    "tdim = domain.topology.dim\n",
    "fdim = tdim - 1\n",
    "domain.topology.create_connectivity(fdim, tdim)\n",
    "boundary_facets = mesh.exterior_facet_indices(domain.topology)"
   ]
  },
  {
   "cell_type": "code",
   "execution_count": 5,
   "id": "764e20f7-fde8-4ab7-8d22-8021d6f95d6c",
   "metadata": {},
   "outputs": [],
   "source": [
    "boundary_dofs = fem.locate_dofs_topological(V, fdim, boundary_facets)\n",
    "bc = fem.dirichletbc(uD, boundary_dofs)"
   ]
  },
  {
   "cell_type": "code",
   "execution_count": 6,
   "id": "c2524529-b1fe-489c-a54e-e8ae5040eb8c",
   "metadata": {},
   "outputs": [],
   "source": [
    "import ufl\n",
    "u = ufl.TrialFunction(V)\n",
    "v = ufl.TestFunction(V)"
   ]
  },
  {
   "cell_type": "code",
   "execution_count": 7,
   "id": "ee2035cc-da00-44db-8b6f-e7ae899f368f",
   "metadata": {},
   "outputs": [],
   "source": [
    "from petsc4py.PETSc import ScalarType\n",
    "f = fem.Constant(domain, ScalarType(-6))"
   ]
  },
  {
   "cell_type": "code",
   "execution_count": 8,
   "id": "f50b95a7-4735-488d-80f2-e5bd437e4263",
   "metadata": {},
   "outputs": [],
   "source": [
    "a = ufl.dot(ufl.grad(u), ufl.grad(v)) * ufl.dx\n",
    "L = f * v * ufl.dx"
   ]
  },
  {
   "cell_type": "code",
   "execution_count": 9,
   "id": "32a864d1-d471-4c19-848f-8489ce2a3c42",
   "metadata": {},
   "outputs": [
    {
     "name": "stderr",
     "output_type": "stream",
     "text": [
      "INFO:root:running build_ext\n",
      "INFO:root:building 'libffcx_forms_2c89199f69731a52ae9a693eec30521ad9f510ab' extension\n",
      "INFO:root:/opt/conda/bin/x86_64-conda-linux-gnu-cc -Wno-unused-result -Wsign-compare -DNDEBUG -fwrapv -O2 -Wall -fPIC -O2 -isystem /opt/conda/include -fPIC -O2 -isystem /opt/conda/include -march=nocona -mtune=haswell -ftree-vectorize -fPIC -fstack-protector-strong -fno-plt -O2 -ffunction-sections -pipe -isystem /opt/conda/include -DNDEBUG -D_FORTIFY_SOURCE=2 -O2 -isystem /opt/conda/include -fPIC -I/opt/conda/lib/python3.10/site-packages/ffcx/codegeneration -I/opt/conda/include/python3.10 -c libffcx_forms_2c89199f69731a52ae9a693eec30521ad9f510ab.c -o ./libffcx_forms_2c89199f69731a52ae9a693eec30521ad9f510ab.o -O2 -g0\n",
      "INFO:root:/opt/conda/bin/x86_64-conda-linux-gnu-cc -shared -Wl,--allow-shlib-undefined -Wl,-rpath,/opt/conda/lib -Wl,-rpath-link,/opt/conda/lib -L/opt/conda/lib -Wl,--allow-shlib-undefined -Wl,-rpath,/opt/conda/lib -Wl,-rpath-link,/opt/conda/lib -L/opt/conda/lib -Wl,-O2 -Wl,--sort-common -Wl,--as-needed -Wl,-z,relro -Wl,-z,now -Wl,--disable-new-dtags -Wl,--gc-sections -Wl,--allow-shlib-undefined -Wl,-rpath,/opt/conda/lib -Wl,-rpath-link,/opt/conda/lib -L/opt/conda/lib -march=nocona -mtune=haswell -ftree-vectorize -fPIC -fstack-protector-strong -fno-plt -O2 -ffunction-sections -pipe -isystem /opt/conda/include -DNDEBUG -D_FORTIFY_SOURCE=2 -O2 -isystem /opt/conda/include ./libffcx_forms_2c89199f69731a52ae9a693eec30521ad9f510ab.o -o ./libffcx_forms_2c89199f69731a52ae9a693eec30521ad9f510ab.cpython-310-x86_64-linux-gnu.so\n",
      "INFO:root:running build_ext\n",
      "INFO:root:building 'libffcx_forms_83a5e882e44d3a9c32e5f1bc4352b1e5f0c5e864' extension\n",
      "INFO:root:/opt/conda/bin/x86_64-conda-linux-gnu-cc -Wno-unused-result -Wsign-compare -DNDEBUG -fwrapv -O2 -Wall -fPIC -O2 -isystem /opt/conda/include -fPIC -O2 -isystem /opt/conda/include -march=nocona -mtune=haswell -ftree-vectorize -fPIC -fstack-protector-strong -fno-plt -O2 -ffunction-sections -pipe -isystem /opt/conda/include -DNDEBUG -D_FORTIFY_SOURCE=2 -O2 -isystem /opt/conda/include -fPIC -I/opt/conda/lib/python3.10/site-packages/ffcx/codegeneration -I/opt/conda/include/python3.10 -c libffcx_forms_83a5e882e44d3a9c32e5f1bc4352b1e5f0c5e864.c -o ./libffcx_forms_83a5e882e44d3a9c32e5f1bc4352b1e5f0c5e864.o -O2 -g0\n",
      "INFO:root:/opt/conda/bin/x86_64-conda-linux-gnu-cc -shared -Wl,--allow-shlib-undefined -Wl,-rpath,/opt/conda/lib -Wl,-rpath-link,/opt/conda/lib -L/opt/conda/lib -Wl,--allow-shlib-undefined -Wl,-rpath,/opt/conda/lib -Wl,-rpath-link,/opt/conda/lib -L/opt/conda/lib -Wl,-O2 -Wl,--sort-common -Wl,--as-needed -Wl,-z,relro -Wl,-z,now -Wl,--disable-new-dtags -Wl,--gc-sections -Wl,--allow-shlib-undefined -Wl,-rpath,/opt/conda/lib -Wl,-rpath-link,/opt/conda/lib -L/opt/conda/lib -march=nocona -mtune=haswell -ftree-vectorize -fPIC -fstack-protector-strong -fno-plt -O2 -ffunction-sections -pipe -isystem /opt/conda/include -DNDEBUG -D_FORTIFY_SOURCE=2 -O2 -isystem /opt/conda/include ./libffcx_forms_83a5e882e44d3a9c32e5f1bc4352b1e5f0c5e864.o -o ./libffcx_forms_83a5e882e44d3a9c32e5f1bc4352b1e5f0c5e864.cpython-310-x86_64-linux-gnu.so\n"
     ]
    }
   ],
   "source": [
    "problem = fem.petsc.LinearProblem(a, L, bcs=[bc], petsc_options={\"ksp_type\": \"preonly\", \"pc_type\": \"lu\"})\n",
    "uh = problem.solve()"
   ]
  },
  {
   "cell_type": "code",
   "execution_count": 10,
   "id": "27ee08ff-ffd8-4ed4-bc50-d506e3657487",
   "metadata": {},
   "outputs": [
    {
     "name": "stderr",
     "output_type": "stream",
     "text": [
      "INFO:root:running build_ext\n",
      "INFO:root:building 'libffcx_elements_e19fc72bcf41f0f60850516c5976b4290cd17c95' extension\n",
      "INFO:root:/opt/conda/bin/x86_64-conda-linux-gnu-cc -Wno-unused-result -Wsign-compare -DNDEBUG -fwrapv -O2 -Wall -fPIC -O2 -isystem /opt/conda/include -fPIC -O2 -isystem /opt/conda/include -march=nocona -mtune=haswell -ftree-vectorize -fPIC -fstack-protector-strong -fno-plt -O2 -ffunction-sections -pipe -isystem /opt/conda/include -DNDEBUG -D_FORTIFY_SOURCE=2 -O2 -isystem /opt/conda/include -fPIC -I/opt/conda/lib/python3.10/site-packages/ffcx/codegeneration -I/opt/conda/include/python3.10 -c libffcx_elements_e19fc72bcf41f0f60850516c5976b4290cd17c95.c -o ./libffcx_elements_e19fc72bcf41f0f60850516c5976b4290cd17c95.o -O2 -g0\n",
      "INFO:root:/opt/conda/bin/x86_64-conda-linux-gnu-cc -shared -Wl,--allow-shlib-undefined -Wl,-rpath,/opt/conda/lib -Wl,-rpath-link,/opt/conda/lib -L/opt/conda/lib -Wl,--allow-shlib-undefined -Wl,-rpath,/opt/conda/lib -Wl,-rpath-link,/opt/conda/lib -L/opt/conda/lib -Wl,-O2 -Wl,--sort-common -Wl,--as-needed -Wl,-z,relro -Wl,-z,now -Wl,--disable-new-dtags -Wl,--gc-sections -Wl,--allow-shlib-undefined -Wl,-rpath,/opt/conda/lib -Wl,-rpath-link,/opt/conda/lib -L/opt/conda/lib -march=nocona -mtune=haswell -ftree-vectorize -fPIC -fstack-protector-strong -fno-plt -O2 -ffunction-sections -pipe -isystem /opt/conda/include -DNDEBUG -D_FORTIFY_SOURCE=2 -O2 -isystem /opt/conda/include ./libffcx_elements_e19fc72bcf41f0f60850516c5976b4290cd17c95.o -o ./libffcx_elements_e19fc72bcf41f0f60850516c5976b4290cd17c95.cpython-310-x86_64-linux-gnu.so\n"
     ]
    }
   ],
   "source": [
    "V2 = fem.FunctionSpace(domain, (\"CG\", 2))\n",
    "uex = fem.Function(V2)\n",
    "uex.interpolate(lambda x: 1 + x[0]**2 + 2 * x[1]**2)"
   ]
  },
  {
   "cell_type": "code",
   "execution_count": 11,
   "id": "4d229e9c-dc87-4427-b0dc-a6338752405e",
   "metadata": {},
   "outputs": [
    {
     "name": "stderr",
     "output_type": "stream",
     "text": [
      "INFO:root:running build_ext\n",
      "INFO:root:building 'libffcx_forms_43607ee530d1247b4f5fd6a7cea6dd72c914e6a9' extension\n",
      "INFO:root:/opt/conda/bin/x86_64-conda-linux-gnu-cc -Wno-unused-result -Wsign-compare -DNDEBUG -fwrapv -O2 -Wall -fPIC -O2 -isystem /opt/conda/include -fPIC -O2 -isystem /opt/conda/include -march=nocona -mtune=haswell -ftree-vectorize -fPIC -fstack-protector-strong -fno-plt -O2 -ffunction-sections -pipe -isystem /opt/conda/include -DNDEBUG -D_FORTIFY_SOURCE=2 -O2 -isystem /opt/conda/include -fPIC -I/opt/conda/lib/python3.10/site-packages/ffcx/codegeneration -I/opt/conda/include/python3.10 -c libffcx_forms_43607ee530d1247b4f5fd6a7cea6dd72c914e6a9.c -o ./libffcx_forms_43607ee530d1247b4f5fd6a7cea6dd72c914e6a9.o -O2 -g0\n",
      "INFO:root:/opt/conda/bin/x86_64-conda-linux-gnu-cc -shared -Wl,--allow-shlib-undefined -Wl,-rpath,/opt/conda/lib -Wl,-rpath-link,/opt/conda/lib -L/opt/conda/lib -Wl,--allow-shlib-undefined -Wl,-rpath,/opt/conda/lib -Wl,-rpath-link,/opt/conda/lib -L/opt/conda/lib -Wl,-O2 -Wl,--sort-common -Wl,--as-needed -Wl,-z,relro -Wl,-z,now -Wl,--disable-new-dtags -Wl,--gc-sections -Wl,--allow-shlib-undefined -Wl,-rpath,/opt/conda/lib -Wl,-rpath-link,/opt/conda/lib -L/opt/conda/lib -march=nocona -mtune=haswell -ftree-vectorize -fPIC -fstack-protector-strong -fno-plt -O2 -ffunction-sections -pipe -isystem /opt/conda/include -DNDEBUG -D_FORTIFY_SOURCE=2 -O2 -isystem /opt/conda/include ./libffcx_forms_43607ee530d1247b4f5fd6a7cea6dd72c914e6a9.o -o ./libffcx_forms_43607ee530d1247b4f5fd6a7cea6dd72c914e6a9.cpython-310-x86_64-linux-gnu.so\n"
     ]
    }
   ],
   "source": [
    "L2_error = fem.form(ufl.inner(uh - uex, uh - uex) * ufl.dx)\n",
    "error_local = fem.assemble_scalar(L2_error)\n",
    "error_L2 = numpy.sqrt(domain.comm.allreduce(error_local, op=MPI.SUM))"
   ]
  },
  {
   "cell_type": "code",
   "execution_count": 12,
   "id": "57f7106e-659d-4f6c-8e30-4fae7a95a980",
   "metadata": {},
   "outputs": [
    {
     "name": "stdout",
     "output_type": "stream",
     "text": [
      "Error_L2 : 8.24e-03\n",
      "Error_max : 4.00e-15\n"
     ]
    }
   ],
   "source": [
    "error_max = numpy.max(numpy.abs(uD.x.array-uh.x.array))\n",
    "# Only print the error on one process\n",
    "if domain.comm.rank == 0:\n",
    "    print(f\"Error_L2 : {error_L2:.2e}\")\n",
    "    print(f\"Error_max : {error_max:.2e}\")"
   ]
  },
  {
   "cell_type": "code",
   "execution_count": 13,
   "id": "331dfca6-23ae-4a03-af80-3a2d32d58e61",
   "metadata": {},
   "outputs": [
    {
     "name": "stdout",
     "output_type": "stream",
     "text": [
      "trame\n"
     ]
    }
   ],
   "source": [
    "import pyvista\n",
    "print(pyvista.global_theme.jupyter_backend)"
   ]
  },
  {
   "cell_type": "code",
   "execution_count": 14,
   "id": "6299a4af-2c29-46cc-a35c-1766ae75a84d",
   "metadata": {},
   "outputs": [],
   "source": [
    "from dolfinx import plot\n",
    "pyvista.start_xvfb()\n",
    "topology, cell_types, geometry = plot.create_vtk_mesh(domain, tdim)\n",
    "grid = pyvista.UnstructuredGrid(topology, cell_types, geometry)"
   ]
  },
  {
   "cell_type": "code",
   "execution_count": 15,
   "id": "bf5ed5da-842e-43f8-863a-65710bad72ea",
   "metadata": {},
   "outputs": [
    {
     "data": {
      "application/vnd.jupyter.widget-view+json": {
       "model_id": "5232af93d93c40f6afb14fc9b8cd15ea",
       "version_major": 2,
       "version_minor": 0
      },
      "text/plain": [
       "Widget(value=\"<iframe src='http://localhost:42403/index.html?ui=P_0x7f0b19c77580_0&reconnect=auto' style='widt…"
      ]
     },
     "metadata": {},
     "output_type": "display_data"
    }
   ],
   "source": [
    "plotter = pyvista.Plotter()\n",
    "plotter.add_mesh(grid, show_edges=True)\n",
    "plotter.view_xy()\n",
    "if not pyvista.OFF_SCREEN:\n",
    "    plotter.show()\n",
    "else:\n",
    "    figure = plotter.screenshot(\"fundamentals_mesh.png\")"
   ]
  },
  {
   "cell_type": "code",
   "execution_count": 16,
   "id": "243b9f86-1a6a-44e8-b53b-211c4686e23d",
   "metadata": {},
   "outputs": [],
   "source": [
    "u_topology, u_cell_types, u_geometry = plot.create_vtk_mesh(V)"
   ]
  },
  {
   "cell_type": "code",
   "execution_count": 17,
   "id": "5ea0eb82-1e55-4f0e-b10b-cc1f0b4c2970",
   "metadata": {},
   "outputs": [
    {
     "data": {
      "application/vnd.jupyter.widget-view+json": {
       "model_id": "8732a61afc744ed09f8a71c6c32600e4",
       "version_major": 2,
       "version_minor": 0
      },
      "text/plain": [
       "Widget(value=\"<iframe src='http://localhost:42403/index.html?ui=P_0x7f0b2acf7e20_1&reconnect=auto' style='widt…"
      ]
     },
     "metadata": {},
     "output_type": "display_data"
    }
   ],
   "source": [
    "u_grid = pyvista.UnstructuredGrid(u_topology, u_cell_types, u_geometry)\n",
    "u_grid.point_data[\"u\"] = uh.x.array.real\n",
    "u_grid.set_active_scalars(\"u\")\n",
    "u_plotter = pyvista.Plotter()\n",
    "u_plotter.add_mesh(u_grid, show_edges=True)\n",
    "u_plotter.view_xy()\n",
    "if not pyvista.OFF_SCREEN:\n",
    "    u_plotter.show()"
   ]
  },
  {
   "cell_type": "code",
   "execution_count": 18,
   "id": "2f53e3f3-552a-4151-bc95-fb55305d1901",
   "metadata": {},
   "outputs": [
    {
     "data": {
      "application/vnd.jupyter.widget-view+json": {
       "model_id": "7e52b022d4a3439784d7632196d6bfc2",
       "version_major": 2,
       "version_minor": 0
      },
      "text/plain": [
       "Widget(value=\"<iframe src='http://localhost:42403/index.html?ui=P_0x7f0b194f1240_2&reconnect=auto' style='widt…"
      ]
     },
     "metadata": {},
     "output_type": "display_data"
    }
   ],
   "source": [
    "warped = u_grid.warp_by_scalar()\n",
    "plotter2 = pyvista.Plotter()\n",
    "plotter2.add_mesh(warped, show_edges=True, show_scalar_bar=True)\n",
    "if not pyvista.OFF_SCREEN:\n",
    "    plotter2.show()"
   ]
  },
  {
   "cell_type": "code",
   "execution_count": 19,
   "id": "e502e3d0-d914-42f9-8a0f-a04961c43ec6",
   "metadata": {},
   "outputs": [],
   "source": [
    "from dolfinx import io\n",
    "with io.VTXWriter(domain.comm, \"output.bp\", [uh]) as vtx:\n",
    "    vtx.write(0.0)\n",
    "with io.XDMFFile(domain.comm, \"output.xdmf\", \"w\") as xdmf:\n",
    "    xdmf.write_mesh(domain)\n",
    "    xdmf.write_function(uh)"
   ]
  }
 ],
 "metadata": {
  "kernelspec": {
   "display_name": "Python 3 (ipykernel)",
   "language": "python",
   "name": "python3"
  },
  "language_info": {
   "codemirror_mode": {
    "name": "ipython",
    "version": 3
   },
   "file_extension": ".py",
   "mimetype": "text/x-python",
   "name": "python",
   "nbconvert_exporter": "python",
   "pygments_lexer": "ipython3",
   "version": "3.10.12"
  }
 },
 "nbformat": 4,
 "nbformat_minor": 5
}
