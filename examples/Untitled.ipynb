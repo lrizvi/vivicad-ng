{
 "cells": [
  {
   "cell_type": "code",
   "execution_count": 7,
   "id": "1849f32d-a4d3-4933-af7e-67f513ff0371",
   "metadata": {},
   "outputs": [
    {
     "ename": "ModuleNotFoundError",
     "evalue": "No module named 'vivicad'",
     "output_type": "error",
     "traceback": [
      "\u001b[0;31m---------------------------------------------------------------------------\u001b[0m",
      "\u001b[0;31mModuleNotFoundError\u001b[0m                       Traceback (most recent call last)",
      "Cell \u001b[0;32mIn[7], line 1\u001b[0m\n\u001b[0;32m----> 1\u001b[0m \u001b[38;5;28;01mfrom\u001b[39;00m \u001b[38;5;21;01mvivicad\u001b[39;00m \u001b[38;5;28;01mimport\u001b[39;00m test\n",
      "\u001b[0;31mModuleNotFoundError\u001b[0m: No module named 'vivicad'"
     ]
    }
   ],
   "source": [
    "from vivicad import test"
   ]
  },
  {
   "cell_type": "code",
   "execution_count": null,
   "id": "cf21c3ab-6d6d-459d-a1b2-f3a40ebb92cb",
   "metadata": {},
   "outputs": [],
   "source": []
  }
 ],
 "metadata": {
  "kernelspec": {
   "display_name": "Python 3 (ipykernel)",
   "language": "python",
   "name": "python3"
  },
  "language_info": {
   "codemirror_mode": {
    "name": "ipython",
    "version": 3
   },
   "file_extension": ".py",
   "mimetype": "text/x-python",
   "name": "python",
   "nbconvert_exporter": "python",
   "pygments_lexer": "ipython3",
   "version": "3.9.16"
  }
 },
 "nbformat": 4,
 "nbformat_minor": 5
}
